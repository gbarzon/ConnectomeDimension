{
 "cells": [
  {
   "cell_type": "code",
   "execution_count": null,
   "id": "ee39c07c",
   "metadata": {
    "ExecuteTime": {
     "end_time": "2024-01-08T16:04:21.217788Z",
     "start_time": "2024-01-08T16:04:18.883460Z"
    }
   },
   "outputs": [],
   "source": [
    "import os\n",
    "os.environ[\"OPENBLAS_NUM_THREADS\"] = \"30\"\n",
    "\n",
    "import numpy as np\n",
    "import matplotlib.pyplot as plt\n",
    "from matplotlib.colors import LogNorm\n",
    "plt.rcParams['font.size'] = 15\n",
    "\n",
    "from utils.utils import *\n",
    "\n",
    "import utils.HTC_utils as HTC\n",
    "import random\n",
    "\n",
    "import networkx as nx\n",
    "\n",
    "import os\n",
    "import seaborn as sns\n",
    "\n",
    "cs = ['cornflowerblue', '#FEBE00']"
   ]
  },
  {
   "cell_type": "code",
   "execution_count": null,
   "id": "35837f50",
   "metadata": {
    "ExecuteTime": {
     "end_time": "2023-11-02T16:40:14.144049Z",
     "start_time": "2023-11-02T16:40:14.124934Z"
    }
   },
   "outputs": [],
   "source": [
    "def plot_results(res, res2=None, cs=['cornflowerblue', 'orange'], labels=['control', 'stroke'], lw=3):\n",
    "    plt.figure(figsize=(10,3))\n",
    "\n",
    "    ax1 = plt.subplot(1,2,1)\n",
    "    ax2 = ax1.twinx()\n",
    "\n",
    "    ax1.plot(res[0], res[1], c=cs[0], label=labels[0], lw=lw)\n",
    "    ax2.plot(res[0], res[2], c=cs[0], ls='-.', lw=lw)\n",
    "    \n",
    "    if res2 is not None:\n",
    "        ax1.plot(res2[0], res2[1], c=cs[1], label=labels[1], lw=lw)\n",
    "        ax2.plot(res2[0], res2[2], c=cs[1], ls='-.', lw=lw)\n",
    "\n",
    "    ax1.set_xlabel('T')\n",
    "    ax1.set_ylabel('A')\n",
    "    ax2.set_ylabel(r'$\\sigma$(A)')\n",
    "\n",
    "    ax1 = plt.subplot(1,2,2)\n",
    "    ax2 = ax1.twinx()\n",
    "\n",
    "    ax1.plot(res[0], res[3], c=cs[0], label=labels[0], lw=lw)\n",
    "    ax2.plot(res[0], res[4], c=cs[0], ls='-.', lw=lw)\n",
    "    \n",
    "    if res2 is not None:\n",
    "        ax1.plot(res2[0], res2[3], c=cs[1], label=labels[1], lw=lw)\n",
    "        ax2.plot(res2[0], res2[4], c=cs[1], ls='-.', lw=lw)\n",
    "\n",
    "    ax1.set_xlabel('T') \n",
    "    ax1.set_ylabel('S1')\n",
    "    ax2.set_ylabel('S2')\n",
    "    \n",
    "    ax1.legend()\n",
    "    plt.tight_layout()\n",
    "    plt.show()"
   ]
  },
  {
   "cell_type": "code",
   "execution_count": null,
   "id": "d12e09e8",
   "metadata": {
    "ExecuteTime": {
     "end_time": "2023-11-02T14:40:48.168695Z",
     "start_time": "2023-11-02T14:40:47.748819Z"
    }
   },
   "outputs": [],
   "source": [
    "### Load data\n",
    "ses = 1\n",
    "N = 500\n",
    "\n",
    "mats = []\n",
    "\n",
    "data = data_loader(which='control', ses=ses, parc=N, thr='mask', include_subctx=False)\n",
    "W = data.load_matrix(13)\n",
    "mats.append(W)\n",
    "\n",
    "data = data_loader(which='stroke', ses=ses, parc=N, thr='mask', include_subctx=False)\n",
    "W = data.load_matrix(13)\n",
    "mats.append(W)"
   ]
  },
  {
   "cell_type": "code",
   "execution_count": null,
   "id": "d124e48e",
   "metadata": {
    "ExecuteTime": {
     "end_time": "2024-07-03T22:41:26.739187Z",
     "start_time": "2024-07-03T22:41:26.259855Z"
    }
   },
   "outputs": [],
   "source": [
    "### Define HTC parameters\n",
    "# Rodrigo -> r1 = 2/ N; r2 = r2 ** (1/5)\n",
    "# N=100 -> r1 = 1/N; r2 = 5e-1\n",
    "# N=200 -> r1 = 1/N; r2 = 3e-1\n",
    "# N=500 -> r1 = 1/N; r2 = 0.3\n",
    "# N = 500\n",
    "\n",
    "r1 = 1/N\n",
    "r2 = 125/N\n",
    "\n",
    "Tmin, Tmax = HTC.get_Trange(r1, r2)\n",
    "\n",
    "steps = int(1e4)\n",
    "eq_steps = int(5e3)\n",
    "runs = 30\n",
    "nT = 30 #nT = 30"
   ]
  },
  {
   "cell_type": "markdown",
   "id": "d174b5be",
   "metadata": {},
   "source": [
    "# Run all dataset"
   ]
  },
  {
   "cell_type": "code",
   "execution_count": null,
   "id": "e371e166",
   "metadata": {
    "ExecuteTime": {
     "end_time": "2023-11-03T16:10:57.103739Z",
     "start_time": "2023-11-02T16:55:25.673759Z"
    },
    "scrolled": true
   },
   "outputs": [],
   "source": [
    "folder = 'results/criticality/'\n",
    "\n",
    "tmp_dicts = [dict_control, dict_stroke]\n",
    "\n",
    "steps = int(1e4)\n",
    "eq_steps = int(5e3)\n",
    "runs = 30\n",
    "nT = 30\n",
    "\n",
    "r2s = {100: 0.5, 200: 0.3, 500: 0.3}\n",
    "\n",
    "for tmp_dict in tmp_dicts:\n",
    "    which = tmp_dict['name']\n",
    "    \n",
    "    for parc in tmp_dict['parcs'][:-1]:\n",
    "        for ses in tmp_dict['sessions'][:-1]:\n",
    "            # Load dataset\n",
    "            data = data_loader(which=which, ses=ses, parc=parc, thr='mask', include_subctx=False)\n",
    "            \n",
    "            for idx, mat in enumerate(data):\n",
    "                # Check if connected - otherwise it has returned None\n",
    "                if mat is None:\n",
    "                    continue\n",
    "                \n",
    "                ### Define params\n",
    "                r1 = 1/parc\n",
    "                r2 = r2s[parc]\n",
    "\n",
    "                Tminus = r1 * r2 / (r1 + r2 + r1*r2)\n",
    "                Tplus = r2 / (2*r2 +1)\n",
    "\n",
    "                xplus = Tplus\n",
    "                yplus = Tplus / r2\n",
    "\n",
    "                xminus = Tminus\n",
    "                yminus = Tminus / r2\n",
    "\n",
    "                Tmin = 0\n",
    "                Tmax = 1.4 * Tplus\n",
    "                \n",
    "                # Compute HTC\n",
    "                res = HTC.run_htc(mat, r1, r2, Tmin, Tmax, nT, steps, eq_steps, runs, step_clust=1,\n",
    "                                  norm=True, Tdiv_log=False, display=False)\n",
    "        \n",
    "                # Store dimension\n",
    "                np.savetxt(folder+data.full_names[idx], np.stack(res))"
   ]
  }
 ],
 "metadata": {
  "kernelspec": {
   "display_name": "Python 3.8",
   "language": "python",
   "name": "python3.8"
  },
  "language_info": {
   "codemirror_mode": {
    "name": "ipython",
    "version": 3
   },
   "file_extension": ".py",
   "mimetype": "text/x-python",
   "name": "python",
   "nbconvert_exporter": "python",
   "pygments_lexer": "ipython3",
   "version": "3.8.0"
  },
  "varInspector": {
   "cols": {
    "lenName": 16,
    "lenType": 16,
    "lenVar": 40
   },
   "kernels_config": {
    "python": {
     "delete_cmd_postfix": "",
     "delete_cmd_prefix": "del ",
     "library": "var_list.py",
     "varRefreshCmd": "print(var_dic_list())"
    },
    "r": {
     "delete_cmd_postfix": ") ",
     "delete_cmd_prefix": "rm(",
     "library": "var_list.r",
     "varRefreshCmd": "cat(var_dic_list()) "
    }
   },
   "types_to_exclude": [
    "module",
    "function",
    "builtin_function_or_method",
    "instance",
    "_Feature"
   ],
   "window_display": false
  }
 },
 "nbformat": 4,
 "nbformat_minor": 5
}
