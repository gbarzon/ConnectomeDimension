{
 "cells": [
  {
   "cell_type": "code",
   "execution_count": 1,
   "id": "7af26d89",
   "metadata": {
    "ExecuteTime": {
     "end_time": "2024-09-17T14:36:48.962795Z",
     "start_time": "2024-09-17T14:36:43.050999Z"
    }
   },
   "outputs": [],
   "source": [
    "import numpy as np\n",
    "import matplotlib.pyplot as plt\n",
    "import seaborn as sns\n",
    "import pandas as pd\n",
    "import scipy as sp\n",
    "\n",
    "import networkx as nx\n",
    "\n",
    "import torch\n",
    "dtype = torch.float\n",
    "device = torch.device(\"cpu\")\n",
    "\n",
    "from utils.utils import *\n",
    "\n",
    "import utils.dyngdim.dyngdim as dyngdim\n",
    "from utils.dyngdim.plotting import compute_dim_max, plot_results"
   ]
  },
  {
   "cell_type": "code",
   "execution_count": 2,
   "id": "659266ba",
   "metadata": {
    "ExecuteTime": {
     "end_time": "2024-09-17T14:37:02.782195Z",
     "start_time": "2024-09-17T14:37:02.764120Z"
    }
   },
   "outputs": [],
   "source": [
    "def laplacian(A):\n",
    "    '''\n",
    "    Calculates the Laplacian matrix of a graph based on its adjacency matrix A.\n",
    "\n",
    "    Args:\n",
    "    - A: Adjacency matrix of the graph\n",
    "\n",
    "    Returns:\n",
    "    - L: Laplacian matrix of the graph\n",
    "    '''\n",
    "    # Calculate the row sums of the adjacency matrix\n",
    "    K = torch.sum(A, dim=1)\n",
    "    \n",
    "    # Construct the Laplacian matrix and return it\n",
    "    K = torch.diag_embed(K)\n",
    "    return torch.matmul( torch.inverse(K), K - A )\n",
    "    #return K - A\n",
    "\n",
    "def statistical_propagator(L, tau):\n",
    "    '''\n",
    "    Computes the statistical propagator matrix using the matrix exponential of the Laplacian and a given time step tau.\n",
    "\n",
    "    Args:\n",
    "    - L: Laplacian matrix of the graph\n",
    "    - tau: Time step\n",
    "\n",
    "    Returns:\n",
    "    - U: Statistical propagator matrix\n",
    "    '''\n",
    "    return torch.matrix_exp(-tau * L)\n",
    "\n",
    "def density_matrix(L, tau):\n",
    "    '''\n",
    "    Computes the density matrix by normalizing the statistical propagator matrix using its trace.\n",
    "\n",
    "    Args:\n",
    "    - L: Laplacian matrix of the graph\n",
    "    - tau: Time step\n",
    "\n",
    "    Returns:\n",
    "    - Density matrix of the system\n",
    "    '''\n",
    "    # Compute the statistical propagator matrix\n",
    "    U = statistical_propagator(L, tau)\n",
    "    \n",
    "    # Normalize the matrix by dividing it by its trace and return\n",
    "    return U / torch.trace(U)\n",
    "\n",
    "def entropy(L, tau):\n",
    "    '''\n",
    "    Computes the von Neumann entropy using the statistical propagator and given time step tau.\n",
    "    S(rho) = -Tr(rho log(rho)) = -Tr(U/Z log(U/Z))\n",
    "           = tau / Z * Tr(U@L) + log(Z)\n",
    "\n",
    "    Args:\n",
    "    - L: Laplacian matrix of the graph\n",
    "    - tau: Time step\n",
    "\n",
    "    Returns:\n",
    "    - Von Neumann entropy of the system\n",
    "    '''\n",
    "    # Compute the statistical propagator matrix\n",
    "    U = statistical_propagator(L, tau)\n",
    "    \n",
    "    # Calculate the trace of the statistical propagator matrix\n",
    "    Z = torch.trace(U)\n",
    "    \n",
    "    # Compute and return the von Neumann entropy formula\n",
    "    return torch.log(Z) + tau / Z * torch.trace(torch.matmul(U, L))\n",
    "\n",
    "def efficiency(L, tau):\n",
    "    '''\n",
    "    Computes the efficiency of a system in terms of its density matrix.\n",
    "    eta = 1 + Q / W = ( S - log(Z) ) / ( log(N) - log(Z) )\n",
    "        = tau / Z * Tr(U@L) / ( log(N) - log(Z) )\n",
    "\n",
    "    Args:\n",
    "    - L: Laplacian matrix of the graph\n",
    "    - tau: Time step\n",
    "\n",
    "    Returns:\n",
    "    - Efficiency of the system\n",
    "    '''\n",
    "    # Compute the statistical propagator matrix\n",
    "    U = statistical_propagator(L, tau)\n",
    "    \n",
    "    # Calculate the trace of the statistical propagator matrix and the size of the system\n",
    "    Z = torch.trace(U)\n",
    "    N = L.size(dim=1)\n",
    "    \n",
    "    # Compute and return the efficiency of the system\n",
    "    return tau / Z * torch.trace(torch.matmul(U, L)) / (np.log(N) - torch.log(Z))"
   ]
  },
  {
   "cell_type": "code",
   "execution_count": 3,
   "id": "bc90e13a",
   "metadata": {
    "ExecuteTime": {
     "end_time": "2024-09-17T14:37:03.349065Z",
     "start_time": "2024-09-17T14:37:03.341109Z"
    }
   },
   "outputs": [],
   "source": [
    "def compute_dimension(Zs, taus):\n",
    "    D = np.log(Zs)\n",
    "    D = (D[1:]-D[:-1]) / (np.log(taus)[1:]-np.log(taus)[:-1])\n",
    "    return -2*D"
   ]
  },
  {
   "cell_type": "code",
   "execution_count": 4,
   "id": "3f0e7f42",
   "metadata": {
    "ExecuteTime": {
     "end_time": "2024-09-17T14:37:04.478711Z",
     "start_time": "2024-09-17T14:37:04.419723Z"
    }
   },
   "outputs": [
    {
     "name": "stdout",
     "output_type": "stream",
     "text": [
      "######## control - ses 01 - parc 200 - total 29 - thr mask - subctx False ########\n",
      "- Loading sub-040\n"
     ]
    }
   ],
   "source": [
    "parc = 200\n",
    "ses = 1\n",
    "\n",
    "data = data_loader(which='control', ses=ses, parc=parc, include_subctx=False, thr='mask')\n",
    "\n",
    "mat = data.load_matrix(0)\n",
    "    \n",
    "mat /= mat.max()"
   ]
  },
  {
   "cell_type": "code",
   "execution_count": 5,
   "id": "c8c3eb4f",
   "metadata": {
    "ExecuteTime": {
     "end_time": "2024-09-17T14:37:07.059016Z",
     "start_time": "2024-09-17T14:37:07.015297Z"
    }
   },
   "outputs": [
    {
     "name": "stdout",
     "output_type": "stream",
     "text": [
      "######## control - ses 01 - parc 200 - total 29 - thr mask - subctx False ########\n",
      "######## stroke - ses 01 - parc 200 - total 51 - thr mask - subctx False ########\n"
     ]
    }
   ],
   "source": [
    "parc = 200\n",
    "ses = 1\n",
    "\n",
    "control = data_loader(which='control', ses=ses, parc=parc, include_subctx=False, thr='mask')\n",
    "stroke = data_loader(which='stroke', ses=ses, parc=parc, include_subctx=False, thr='mask')"
   ]
  },
  {
   "cell_type": "code",
   "execution_count": 78,
   "id": "849d2e38",
   "metadata": {
    "ExecuteTime": {
     "end_time": "2024-09-13T07:17:32.153297Z",
     "start_time": "2024-09-13T07:17:08.191090Z"
    },
    "scrolled": true
   },
   "outputs": [
    {
     "name": "stdout",
     "output_type": "stream",
     "text": [
      "- Loading sub-040\n",
      "- Loading sub-041\n",
      "- Loading sub-042\n",
      "- Loading sub-043\n",
      "- Loading sub-044\n",
      "- Loading sub-045\n",
      "- Loading sub-046\n",
      "- Loading sub-047\n",
      "- Loading sub-048\n",
      "- Loading sub-049\n",
      "- Loading sub-050\n",
      "- Loading sub-051\n",
      "- Loading sub-052\n",
      "- Loading sub-055\n",
      "- Loading sub-057\n",
      "- Loading sub-059\n",
      "- Loading sub-060\n",
      "- Loading sub-061\n",
      "- Loading sub-062\n",
      "- Loading sub-063\n",
      "- Loading sub-064\n",
      "- Loading sub-065\n",
      "- Loading sub-066\n",
      "- Loading sub-067\n",
      "- Loading sub-068\n",
      "- Loading sub-069\n",
      "- Loading sub-070\n",
      "- Loading sub-071\n",
      "- Loading sub-072\n",
      "- Loading sub-200\n",
      "- Loading sub-201\n",
      "- Loading sub-202\n",
      "- Loading sub-203\n",
      "- Loading sub-204\n",
      "- Loading sub-205\n",
      "- Loading sub-206\n",
      "- Loading sub-208\n",
      "- Loading sub-209\n",
      "- Loading sub-210\n",
      "- Loading sub-213\n",
      "- Loading sub-216\n",
      "- Loading sub-219\n",
      "- Loading sub-222\n",
      "- Loading sub-224\n",
      "- Loading sub-226\n",
      "- Loading sub-227\n",
      "- Loading sub-232\n",
      "- Loading sub-233\n",
      "- Loading sub-234\n",
      "- Loading sub-235\n",
      "- Loading sub-238\n",
      "- Loading sub-239\n",
      "- Loading sub-240\n",
      "- Loading sub-243\n",
      "- Loading sub-245\n",
      "- Loading sub-246\n",
      "- Loading sub-247\n",
      "- Loading sub-249\n",
      "- Loading sub-250\n",
      "- Loading sub-251\n",
      "- Loading sub-252\n",
      "- Loading sub-253\n",
      "- Loading sub-256\n",
      "- Loading sub-260\n",
      "- Loading sub-261\n",
      "- Loading sub-262\n",
      "- Loading sub-263\n",
      "- Loading sub-264\n",
      "- Loading sub-265\n",
      "- Loading sub-266\n",
      "- Loading sub-267\n",
      "- Loading sub-268\n",
      "- Loading sub-269\n",
      "- Loading sub-272\n",
      "- Loading sub-273\n",
      "- Loading sub-274\n",
      "- Loading sub-275\n",
      "- Loading sub-277\n",
      "- Loading sub-279\n",
      "- Loading sub-280\n",
      "WARNING: matrix not connected.\n"
     ]
    }
   ],
   "source": [
    "taus = np.logspace(-1.5,2,100)\n",
    "\n",
    "effs_control = []\n",
    "effs_stroke = []\n",
    "\n",
    "for i, mat in enumerate(control):\n",
    "    if mat is None:\n",
    "        continue\n",
    "    mat /= mat.max()\n",
    "    mat = torch.tensor(mat)\n",
    "    \n",
    "    L = laplacian(mat)\n",
    "    \n",
    "    tmp_eff = np.array( [torch.trace(statistical_propagator(L,tau)).detach().numpy() for tau in taus] )\n",
    "    effs_control.append(tmp_eff)\n",
    "\n",
    "for i, mat in enumerate(stroke):\n",
    "    if mat is None:\n",
    "        continue\n",
    "    mat /= mat.max()\n",
    "    mat = torch.tensor(mat)\n",
    "    \n",
    "    L = laplacian(mat)\n",
    "    \n",
    "    tmp_eff = np.array( [torch.trace(statistical_propagator(L,tau)).detach().numpy() for tau in taus] )\n",
    "    effs_stroke.append(tmp_eff)"
   ]
  },
  {
   "cell_type": "code",
   "execution_count": 101,
   "id": "4606ec10",
   "metadata": {
    "ExecuteTime": {
     "end_time": "2024-09-13T07:26:20.266674Z",
     "start_time": "2024-09-13T07:26:20.246599Z"
    }
   },
   "outputs": [],
   "source": [
    "d_control = [compute_dimension(Zs, taus) for Zs in effs_control]\n",
    "d_stroke = [compute_dimension(Zs, taus) for Zs in effs_stroke]\n",
    "\n",
    "tmin = 2e0\n",
    "tmax = 1e1\n",
    "idx = np.where((taus>tmin)*(taus<tmax))[0]\n",
    "\n",
    "dfit_control = [-2*np.polyfit(np.log(taus)[idx], np.log(Zs)[idx], deg=1)[0] for Zs in effs_control]\n",
    "dfit_stroke = [-2*np.polyfit(np.log(taus)[idx], np.log(Zs)[idx], deg=1)[0] for Zs in effs_stroke]"
   ]
  },
  {
   "cell_type": "code",
   "execution_count": 103,
   "id": "70fea83d",
   "metadata": {
    "ExecuteTime": {
     "end_time": "2024-09-13T07:27:25.591569Z",
     "start_time": "2024-09-13T07:27:25.579657Z"
    }
   },
   "outputs": [],
   "source": [
    "df_fit = pd.Series(dfit_control, name=\"control\").to_frame().join(pd.Series(dfit_stroke, name=\"stroke\"))"
   ]
  },
  {
   "cell_type": "code",
   "execution_count": 118,
   "id": "356ade41",
   "metadata": {
    "ExecuteTime": {
     "end_time": "2024-09-13T07:33:55.894796Z",
     "start_time": "2024-09-13T07:33:55.241358Z"
    }
   },
   "outputs": [
    {
     "data": {
      "image/png": "[encoded data removed]",
      "text/plain": [
       "<Figure size 800x300 with 2 Axes>"
      ]
     },
     "metadata": {},
     "output_type": "display_data"
    }
   ],
   "source": [
    "idx_subj = 0\n",
    "Zs = effs_control[idx_subj]\n",
    "\n",
    "plt.figure(figsize=(8,3))\n",
    "\n",
    "tmin = 2e0\n",
    "tmax = 1e1\n",
    "idx = np.where((taus>tmin)*(taus<tmax))[0]\n",
    "\n",
    "m, q = np.polyfit(np.log(taus)[idx], np.log(Zs)[idx], deg=1)\n",
    "dfit = -2*m\n",
    "\n",
    "plt.subplot(1,2,1)\n",
    "plt.plot(taus, Zs )\n",
    "#plt.plot(taus, effs_stroke[0] )\n",
    "plt.plot(taus[idx],np.exp(np.log(taus[idx])*m+q), ls='--', c='k', lw=2, label=f'D={np.round(dfit,2)}' )\n",
    "plt.xscale('log')\n",
    "plt.yscale('log')\n",
    "plt.xlabel(r'$\\tau$')\n",
    "plt.ylabel(r'$Z(\\tau)$')\n",
    "plt.legend()\n",
    "\n",
    "plt.subplot(1,2,2)\n",
    "plt.plot(taus[1:],  d_control[idx_subj])\n",
    "plt.axhline(dfit, ls='--', lw=2, c='k', label=f'D={np.round(dfit,2)}')\n",
    "plt.axhline(d_control[idx_subj][idx].mean(), ls='--', lw=2, c='r', label=f'Dmean={np.round(d_control[idx_subj][idx].mean(),2)}')\n",
    "#plt.plot(taus[1:], D_stroke )\n",
    "plt.xscale('log')\n",
    "plt.xlabel(r'$\\tau$')\n",
    "plt.ylabel(r'$D(\\tau)$')\n",
    "plt.legend()\n",
    "\n",
    "plt.tight_layout()\n",
    "plt.show()"
   ]
  },
  {
   "cell_type": "code",
   "execution_count": 116,
   "id": "1bb7b2d9",
   "metadata": {
    "ExecuteTime": {
     "end_time": "2024-09-13T07:31:49.567411Z",
     "start_time": "2024-09-13T07:31:49.385055Z"
    }
   },
   "outputs": [
    {
     "name": "stderr",
     "output_type": "stream",
     "text": [
      "/home/barzon/.local/lib/python3.8/site-packages/seaborn/categorical.py:82: FutureWarning: iteritems is deprecated and will be removed in a future version. Use .items instead.\n",
      "  plot_data = [np.asarray(s, float) for k, s in iter_data]\n",
      "/home/barzon/.local/lib/python3.8/site-packages/seaborn/categorical.py:82: FutureWarning: iteritems is deprecated and will be removed in a future version. Use .items instead.\n",
      "  plot_data = [np.asarray(s, float) for k, s in iter_data]\n"
     ]
    },
    {
     "data": {
      "image/png": "[encoded data removed]",
      "text/plain": [
       "<Figure size 600x300 with 2 Axes>"
      ]
     },
     "metadata": {},
     "output_type": "display_data"
    }
   ],
   "source": [
    "plt.figure(figsize=(6,3))\n",
    "\n",
    "plt.subplot(1,2,1)\n",
    "sns.boxplot(data=df)\n",
    "plt.ylabel(r'max D($\\tau$)')\n",
    "\n",
    "plt.subplot(1,2,2)\n",
    "sns.boxplot(data=df_fit)\n",
    "plt.ylabel(r'fit D')\n",
    "\n",
    "plt.tight_layout()\n",
    "plt.show()"
   ]
  },
  {
   "cell_type": "code",
   "execution_count": 6,
   "id": "a8b1f015",
   "metadata": {
    "ExecuteTime": {
     "end_time": "2024-09-17T14:37:18.548314Z",
     "start_time": "2024-09-17T14:37:18.407042Z"
    }
   },
   "outputs": [],
   "source": [
    "mat = nx.grid_2d_graph(50, 50)\n",
    "mat = nx.to_numpy_array(mat)\n",
    "\n",
    "mat = torch.tensor(mat)"
   ]
  },
  {
   "cell_type": "code",
   "execution_count": 7,
   "id": "c38c7741",
   "metadata": {
    "ExecuteTime": {
     "end_time": "2024-09-17T14:38:02.207963Z",
     "start_time": "2024-09-17T14:37:19.127372Z"
    }
   },
   "outputs": [],
   "source": [
    "taus = np.logspace(-3,4,100)\n",
    "\n",
    "L = laplacian(mat)\n",
    "tmp_eff = np.array( [torch.trace(statistical_propagator(L,tau)).detach().numpy() for tau in taus] )"
   ]
  },
  {
   "cell_type": "code",
   "execution_count": 9,
   "id": "68b795f7",
   "metadata": {
    "ExecuteTime": {
     "end_time": "2024-09-17T14:38:31.899862Z",
     "start_time": "2024-09-17T14:38:31.550267Z"
    }
   },
   "outputs": [
    {
     "data": {
      "image/png": "[encoded data removed]",
      "text/plain": [
       "<Figure size 800x300 with 2 Axes>"
      ]
     },
     "metadata": {},
     "output_type": "display_data"
    }
   ],
   "source": [
    "plt.figure(figsize=(8,3))\n",
    "\n",
    "tmin = 5e-1\n",
    "tmax = 1e2\n",
    "idx = np.where((taus>tmin)*(taus<tmax))[0]\n",
    "\n",
    "m, q = np.polyfit(np.log(taus)[idx], np.log(tmp_eff)[idx], deg=1)\n",
    "dfit = -2*m\n",
    "\n",
    "plt.subplot(1,2,1)\n",
    "plt.plot(taus, tmp_eff )\n",
    "plt.plot(taus[idx],np.exp(np.log(taus[idx])*m+q), ls='--', c='k', lw=2, label=f'D={dfit}' )\n",
    "plt.xscale('log')\n",
    "plt.yscale('log')\n",
    "plt.xlabel(r'$\\tau$')\n",
    "plt.ylabel(r'$Z(\\tau)$')\n",
    "plt.legend()\n",
    "\n",
    "D = np.log(tmp_eff)\n",
    "D = (D[1:]-D[:-1]) / (np.log(taus)[1:]-np.log(taus)[:-1])\n",
    "D = -2*D\n",
    "\n",
    "plt.subplot(1,2,2)\n",
    "plt.plot(taus[1:], D )\n",
    "plt.axhline(dfit, ls='--', lw=2, c='k', label=f'D={np.round(dfit,2)}')\n",
    "plt.axhline(D[idx].mean(), ls='--', lw=2, c='r', label=f'Dmean={D[idx].mean()}')\n",
    "#plt.axhline(D[idx].mean(), ls='--', lw=2, c='k')\n",
    "plt.xscale('log')\n",
    "plt.xlabel(r'$\\tau$')\n",
    "plt.ylabel(r'$D(\\tau)$')\n",
    "\n",
    "plt.tight_layout()\n",
    "plt.show()"
   ]
  },
  {
   "cell_type": "code",
   "execution_count": null,
   "id": "d4c93969",
   "metadata": {},
   "outputs": [],
   "source": []
  }
 ],
 "metadata": {
  "kernelspec": {
   "display_name": "Python 3.8",
   "language": "python",
   "name": "python3.8"
  },
  "language_info": {
   "codemirror_mode": {
    "name": "ipython",
    "version": 3
   },
   "file_extension": ".py",
   "mimetype": "text/x-python",
   "name": "python",
   "nbconvert_exporter": "python",
   "pygments_lexer": "ipython3",
   "version": "3.8.0"
  },
  "varInspector": {
   "cols": {
    "lenName": 16,
    "lenType": 16,
    "lenVar": 40
   },
   "kernels_config": {
    "python": {
     "delete_cmd_postfix": "",
     "delete_cmd_prefix": "del ",
     "library": "var_list.py",
     "varRefreshCmd": "print(var_dic_list())"
    },
    "r": {
     "delete_cmd_postfix": ") ",
     "delete_cmd_prefix": "rm(",
     "library": "var_list.r",
     "varRefreshCmd": "cat(var_dic_list()) "
    }
   },
   "types_to_exclude": [
    "module",
    "function",
    "builtin_function_or_method",
    "instance",
    "_Feature"
   ],
   "window_display": false
  }
 },
 "nbformat": 4,
 "nbformat_minor": 5
}
